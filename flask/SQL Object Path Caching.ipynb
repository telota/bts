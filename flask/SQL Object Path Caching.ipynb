{
 "cells": [
  {
   "cell_type": "code",
   "execution_count": 1,
   "metadata": {},
   "outputs": [],
   "source": [
    "import sqlite3"
   ]
  },
  {
   "cell_type": "code",
   "execution_count": 22,
   "metadata": {},
   "outputs": [],
   "source": [
    "db = sqlite3.connect('data_copy.sqlite3')"
   ]
  },
  {
   "cell_type": "code",
   "execution_count": 24,
   "metadata": {},
   "outputs": [
    {
     "ename": "OperationalError",
     "evalue": "duplicate column name: path",
     "output_type": "error",
     "traceback": [
      "\u001b[0;31m---------------------------------------------------------------------------\u001b[0m",
      "\u001b[0;31mOperationalError\u001b[0m                          Traceback (most recent call last)",
      "\u001b[0;32m<ipython-input-24-c8dc1ccd5b84>\u001b[0m in \u001b[0;36m<module>\u001b[0;34m()\u001b[0m\n\u001b[1;32m      1\u001b[0m \u001b[0;32mwith\u001b[0m \u001b[0mdb\u001b[0m \u001b[0;32mas\u001b[0m \u001b[0mconn\u001b[0m\u001b[0;34m:\u001b[0m\u001b[0;34m\u001b[0m\u001b[0m\n\u001b[0;32m----> 2\u001b[0;31m     \u001b[0mconn\u001b[0m\u001b[0;34m.\u001b[0m\u001b[0mexecute\u001b[0m\u001b[0;34m(\u001b[0m\u001b[0;34m'ALTER TABLE corpus_object ADD COLUMN path'\u001b[0m\u001b[0;34m)\u001b[0m\u001b[0;34m\u001b[0m\u001b[0m\n\u001b[0m",
      "\u001b[0;31mOperationalError\u001b[0m: duplicate column name: path"
     ]
    }
   ],
   "source": [
    "with db as conn:\n",
    "    conn.execute('ALTER TABLE corpus_object ADD COLUMN path')"
   ]
  },
  {
   "cell_type": "code",
   "execution_count": 14,
   "metadata": {},
   "outputs": [],
   "source": [
    "path_subquery = lambda colname: f'''(\n",
    "    WITH RECURSIVE parent_of(oid, parent, distance, path) AS (\n",
    "        SELECT frob.oid, frob.parent, 0, NULL FROM corpus_object frob WHERE frob.oid={colname}\n",
    "        UNION ALL\n",
    "        SELECT parent_of.oid, narf.parent, parent_of.distance+1,\n",
    "            CASE WHEN parent_of.path NOTNULL THEN narf.name || \"/\" || parent_of.path ELSE narf.name END\n",
    "        FROM corpus_object narf JOIN parent_of ON narf.oid = parent_of.parent\n",
    "    )\n",
    "    SELECT path FROM parent_of ORDER BY distance DESC LIMIT 1)'''"
   ]
  },
  {
   "cell_type": "code",
   "execution_count": 25,
   "metadata": {},
   "outputs": [],
   "source": [
    "with db as conn:\n",
    "    conn.execute(f'UPDATE corpus_object SET path = {path_subquery(\"corpus_object.oid\")}')"
   ]
  },
  {
   "cell_type": "code",
   "execution_count": 27,
   "metadata": {
    "scrolled": false
   },
   "outputs": [
    {
     "data": {
      "text/plain": [
       "[(10002,\n",
       "  '25SQWTCG5RDFPKKDZP5PLVUZDU',\n",
       "  'Personenbeischriften (links)',\n",
       "  7,\n",
       "  16321,\n",
       "  '{}',\n",
       "  'aaew/bbawgrabinschriften/〈Grabinschriften des Alten Reiches〉/Sakkara/Unas-Friedhof/Mastaba des Nianch-Chnum und Chnum-hotep/Felskammer/Ostwand/Szene 30 (Südteil)'),\n",
       " (10003,\n",
       "  '25VK4X56V5DXBNC2WGJ223KULA',\n",
       "  'Westseite',\n",
       "  2,\n",
       "  18677,\n",
       "  '{\"definition\": {\"main_group\": {\"definition\": \"PM III 284 Outer Room\", \"protocol\": \"erfa\\\\u00dft August 2004\"}}, \"bibliography\": {\"bibliographical_text_field\": \"S. Hassan, Excavations at G\\\\u00eeza 1929-1930, Oxford 1932, 78-79, fig. 138, pl. XLIX.2 [*F, K, H, *P]\"}, \"object\": {\"description_of_object\": {\"type\": \"HV3JFDDE4NDJ5HTBR7F2QWPHFE\", \"agent\": \"GT4HRUBG55AE5IB7RM2ZMJOQ6M\"}}, \"find_spot\": {\"find_spot\": {\"place\": {\"place\": \"TZ7HFSUO3ZCLLAAXX3AEWXALIE\"}}}, \"text\": {\"textual_metadata\": {\"script\": \"TYXKD55ZDRB5NAWUTC7YWWJQRQ\", \"texttype\": \"S6TT23BYFJAWBEURQQIZYVRFXI\"}}, \"date\": {\"date\": {\"date\": \"GH2RXLTQ2BCEHPQ6R2SPBER7OM\"}}}',\n",
       "  'aaew/bbawgrabinschriften/〈Grabinschriften des Alten Reiches〉/Gisa/Central Field 〈(PM III, 230-293)〉/Mastaba des Achet-hetepu/Raum A/Eingang/Pfeiler'),\n",
       " (10004,\n",
       "  '262CDBWNSNHMBPLK7OQCFD2OIM',\n",
       "  'Laibungen',\n",
       "  2,\n",
       "  11232,\n",
       "  '{\"definition\": {\"main_group\": {\"definition\": \"PM III 251\", \"protocol\": \"erfa\\\\u00dft August 2005\"}}, \"bibliography\": {\"bibliographical_text_field\": \"S. Hassan, Excavations at G\\\\u00eeza 1934-1935, Bd. 6.3, Cairo 1950, 163-165, fig. 157-160, pl. LXIX [H, K, P, \\\\u00dc]\"}, \"object\": {\"description_of_object\": {\"component\": \"ISLG6MXASBFKJD3RYBEVXQ4LBU\", \"type\": \"HV3JFDDE4NDJ5HTBR7F2QWPHFE\"}}, \"find_spot\": {\"find_spot\": {\"place\": {\"place\": \"TZ7HFSUO3ZCLLAAXX3AEWXALIE\"}}}, \"text\": {\"textual_metadata\": {\"script\": \"TYXKD55ZDRB5NAWUTC7YWWJQRQ\", \"texttype\": \"S6TT23BYFJAWBEURQQIZYVRFXI\"}}, \"date\": {\"date\": {\"date\": \"GH2RXLTQ2BCEHPQ6R2SPBER7OM\"}}}',\n",
       "  'aaew/bbawgrabinschriften/〈Grabinschriften des Alten Reiches〉/Gisa/Central Field 〈(PM III, 230-293)〉/Mastaba des Sema-anch/Eingang'),\n",
       " (10005,\n",
       "  '263VD4LW2RF7VD6AAH24HRELEM',\n",
       "  'Eingang',\n",
       "  2,\n",
       "  19704,\n",
       "  '{\"definition\": {\"main_group\": {\"definition\": \"PM III 286\", \"protocol\": \"erfa\\\\u00dft August 2005\"}}, \"bibliography\": {\"bibliographical_text_field\": \"S. Hassan, Excavations at G\\\\u00eeza 1936-37-38, Cairo 1960, 46-47, fig. 17, pl. XV, XVII A+B  [H, K, P, \\\\u00dc]\"}, \"object\": {\"description_of_object\": {\"component\": \"ISLG6MXASBFKJD3RYBEVXQ4LBU\"}}, \"find_spot\": {\"find_spot\": {\"place\": {\"place\": \"TZ7HFSUO3ZCLLAAXX3AEWXALIE\"}}}, \"text\": {\"textual_metadata\": {\"script\": \"TYXKD55ZDRB5NAWUTC7YWWJQRQ\", \"texttype\": \"S6TT23BYFJAWBEURQQIZYVRFXI\"}}, \"date\": {\"date\": {\"date\": \"RI3TSGKXUFCE3HV43BX2N2MJVE\"}}}',\n",
       "  'aaew/bbawgrabinschriften/〈Grabinschriften des Alten Reiches〉/Gisa/Central Field 〈(PM III, 230-293)〉/Mastaba der Useret-ka (Kausert)'),\n",
       " (10006,\n",
       "  '264PX3ACMJHPLHVOS2FG2HAIY4',\n",
       "  'vor Grabherr, Beischrift',\n",
       "  7,\n",
       "  16789,\n",
       "  '{\"definition\": {\"main_group\": {\"protocol\": \"A. Burkhardt, Erstaufnahme, August 2000.\\\\nA. Burkhardt, Korrekturen und Erg\\\\u00e4nzungen, Fr\\\\u00fchjahr/Sommer 2002.\"}}, \"bibliography\": {\"bibliographical_text_field\": \"Kanawati, Naguib, The rock tombs of El-Hawawish. The cemetery of Akhmim 6, Sydney 1986, 31-33, Pl. 2b, 6b, Fig. 10, 11 *[P,F,U,\\\\u00dc,K,L,B];\\\\nKanawati, Naguib, Akhmim in the Old Kingdom. I: Chronology and administration, Sydney 1992, 312 [K]\"}, \"object\": {\"description_of_object\": {\"type\": \"P33RJ7RXYRHW7FU4BA2BULCCCI\"}}, \"find_spot\": {\"find_spot\": {\"place\": {\"place\": \"C2Z63NXQFBBFNLB3RZEJJQTBVQ\"}}}, \"text\": {\"textual_metadata\": {\"egyTextName\": \"Thesaurus Linguae Aegyptiae, Achmim, Grab L21 des Sefechu, Kultraum, Westwand, Scheint\\\\u00fcr und Speisetischszene, Speisetischszene, vor Grabherr, Beischrift\", \"script\": \"J5E7HWT7JZB2FMVPVI77H7VB3A\", \"texttype\": \"S6TT23BYFJAWBEURQQIZYVRFXI\"}}, \"date\": {\"date\": {\"date\": \"GH2RXLTQ2BCEHPQ6R2SPBER7OM\", \"comment\": \"nach Kanawati, El-Hawawish, Mitte 6. Dyn.;\\\\nnach Kanawati, Akhmim, fr\\\\u00fch bis Mitte Pepi II.\"}}}',\n",
       "  'aaew/bbawgrabinschriften/〈Grabinschriften des Alten Reiches〉/Achmim/〈Felsgräbernekropole von El-Hawawisch〉/〈Felsgräber〉/〈Quadrate L, M, N und Q〉/Grab L21 des Sefechu/Kultraum/Westwand/Scheintür und Speisetischszene/Speisetischszene'),\n",
       " (10007,\n",
       "  '264WP76EEJB6TLN4D4WODMA5PA',\n",
       "  'rechter Innenpfosten',\n",
       "  7,\n",
       "  18228,\n",
       "  '{\"definition\": {\"main_group\": {\"definition\": \"PM III 276f.\", \"protocol\": \"erfa\\\\u00dft Juni 2005\"}}, \"bibliography\": {\"bibliographical_text_field\": \"S. Hassan, Excavations at G\\\\u00eeza 1933-1934, Bd. 5, Cairo 1944, 215, fig. 67-68, pl. XVI-XVII [H, K, P, \\\\u00dc]\"}, \"object\": {\"description_of_object\": {\"component\": \"2L6RZ4PAZREGDE4E7WLH255UGI\"}}, \"find_spot\": {\"find_spot\": {\"place\": {\"place\": \"TZ7HFSUO3ZCLLAAXX3AEWXALIE\"}}}, \"text\": {\"textual_metadata\": {\"egyTextName\": \"Thesaurus Linguae Aegyptiae, Gisa, Central Field , Mastaba des Ka-debehen, Eingangspassage, n\\\\u00f6rdliche Scheint\\\\u00fcr, rechter Innenpfosten\", \"script\": \"TYXKD55ZDRB5NAWUTC7YWWJQRQ\", \"texttype\": \"S6TT23BYFJAWBEURQQIZYVRFXI\"}}, \"date\": {\"date\": {\"date\": \"GH2RXLTQ2BCEHPQ6R2SPBER7OM\"}}}',\n",
       "  'aaew/bbawgrabinschriften/〈Grabinschriften des Alten Reiches〉/Gisa/Central Field 〈(PM III, 230-293)〉/Mastaba des Ka-debehen/〈Mastaba des Ka-debehen〉/Eingangspassage/nördliche Scheintür'),\n",
       " (10008,\n",
       "  '266FPRGRKJHI5IW6V6RSU3PWBY',\n",
       "  'rechtes Türgewände',\n",
       "  2,\n",
       "  13723,\n",
       "  '{\"definition\": {\"main_group\": {\"definition\": \"PM III 626\", \"protocol\": \"aufgenommen September 2007\"}}, \"bibliography\": {\"bibliographical_text_field\": \"S. Hassan, Excavations at Saqqara, 1937-1938, Vol. III, Cairo 1975, 78, Fig. 41, pl. LII\\\\n[P, F, H, \\\\u00dc, K, L]\"}, \"object\": {\"description_of_object\": {\"component\": \"GHMRAQY5Z5DTPLAXWE57EKWC2Y\"}}, \"find_spot\": {\"find_spot\": {\"place\": {\"place\": \"EWXT4Q4QYBAOHELCDQ5VPXNRXQ\"}}}, \"text\": {\"textual_metadata\": {\"script\": \"TYXKD55ZDRB5NAWUTC7YWWJQRQ\", \"texttype\": \"S6TT23BYFJAWBEURQQIZYVRFXI\"}}, \"date\": {\"date\": {\"date\": \"GH2RXLTQ2BCEHPQ6R2SPBER7OM\"}}}',\n",
       "  'aaew/bbawgrabinschriften/〈Grabinschriften des Alten Reiches〉/Sakkara/Unas-Friedhof/Felsgrab des Heri-meru/Fassade/Grab-Eingang'),\n",
       " (10009,\n",
       "  '26B6MURORNGAZNXSR2SMKMOVGE',\n",
       "  'Beischrift beim Fischespeeren',\n",
       "  7,\n",
       "  15145,\n",
       "  '{\"definition\": {\"main_group\": {\"protocol\": \"A. Burkhardt, Erstaufnahme, September 2001.\\\\nA. Burkhardt, Korrekturen und Erg\\\\u00e4nzungen, Fr\\\\u00fchjahr/Sommer 2002.\"}}, \"bibliography\": {\"bibliographical_text_field\": \"Kanawati, Naguib, The rock tombs of El-Hawawish. The cemetery of Akhmim 9, Sydney 1989, 31, 32, Fig. 14, 15 *[F,U,\\\\u00dc,K,L,B];\\\\nKanawati, Naguib, Akhmim in the Old Kingdom. I: Chronology and administration, Sydney 1992, 309 [K]\"}, \"object\": {\"description_of_object\": {\"type\": \"P33RJ7RXYRHW7FU4BA2BULCCCI\"}}, \"find_spot\": {\"find_spot\": {\"place\": {\"place\": \"C2Z63NXQFBBFNLB3RZEJJQTBVQ\"}}}, \"text\": {\"textual_metadata\": {\"egyTextName\": \"Thesaurus Linguae Aegyptiae, Achmim, Grab G126 des Baui(?), Kultraum, Nordwand, unteres Register, Fahrt im Papyrusboot, Beischrift beim Fischespeeren\", \"script\": \"J5E7HWT7JZB2FMVPVI77H7VB3A\", \"texttype\": \"S6TT23BYFJAWBEURQQIZYVRFXI\"}}, \"date\": {\"date\": {\"date\": \"GH2RXLTQ2BCEHPQ6R2SPBER7OM\", \"comment\": \"nach Kanawati, El-Hawawish, Pepi I. bis fr\\\\u00fch Pepi II.;\\\\nnach Kanawati, Akhmim, Ende Teti bis Beginn Pepi I.\"}}}',\n",
       "  'aaew/bbawgrabinschriften/〈Grabinschriften des Alten Reiches〉/Achmim/〈Felsgräbernekropole von El-Hawawisch〉/〈Felsgräber〉/〈Quadrat G〉/Grab G126 des Baui(?)/Kultraum/Nordwand/unteres Register/Fahrt im Papyrusboot'),\n",
       " (10010,\n",
       "  '26BY7BMYBBEXTMLMBWVFOLTL4Y',\n",
       "  'Opferkammer',\n",
       "  2,\n",
       "  15962,\n",
       "  '{\"definition\": {\"main_group\": {\"definition\": \"PM III 246\", \"protocol\": \"erfa\\\\u00dft August 2005\"}}, \"bibliography\": {\"bibliographical_text_field\": \"S. Hassan, Excavations at G\\\\u00eeza 1934-1935, Bd. 6.3, Cairo 1950, 151-153, fig. 146-147, pl. LXIII-LXV [H, K, P, \\\\u00dc]\"}, \"object\": {\"description_of_object\": {\"component\": \"DZAW646H4ZBQHEEZZHLE24VR4M\"}}, \"find_spot\": {\"find_spot\": {\"place\": {\"place\": \"TZ7HFSUO3ZCLLAAXX3AEWXALIE\"}}}, \"text\": {\"textual_metadata\": {\"script\": \"TYXKD55ZDRB5NAWUTC7YWWJQRQ\", \"texttype\": \"S6TT23BYFJAWBEURQQIZYVRFXI\"}}, \"date\": {\"date\": {\"date\": \"RI3TSGKXUFCE3HV43BX2N2MJVE\"}}}',\n",
       "  'aaew/bbawgrabinschriften/〈Grabinschriften des Alten Reiches〉/Gisa/Central Field 〈(PM III, 230-293)〉/Mastaba des Anch-em-zaef'),\n",
       " (10011,\n",
       "  '26H2TWOUTFGS3GFXPHPYK6OZKE',\n",
       "  'Beischrift zum Grabherren',\n",
       "  7,\n",
       "  11901,\n",
       "  '{\"definition\": {\"main_group\": {\"protocol\": \"erfa\\\\u00dft Juni 2008\"}}, \"bibliography\": {\"bibliographical_text_field\": \"N. Kanawati, Deir el-Gebrawi II: The southern cliff (ACE Rep. 25), Oxford 2007, 60-61, pl. 4-5, 36-37, 58, 75a\\\\n[P, F, U, \\\\u00dc, K, L]\"}, \"object\": {\"description_of_object\": {\"component\": \"Q2SYQ5XAZJG7HIEUSSLOP4I7OU\"}}, \"find_spot\": {\"find_spot\": {\"place\": {\"place\": \"FJMAFBHVPNFWNE6RCA23I5XWQ4\"}}}, \"text\": {\"textual_metadata\": {\"egyTextName\": \"Thesaurus Linguae Aegyptiae, Deir el-Gebrawi, Grab des Ibi, Opferkapelle, Nordwand, Opfernische, Ostwand, Beischrift zum Grabherren\", \"script\": \"J5E7HWT7JZB2FMVPVI77H7VB3A\", \"texttype\": \"S6TT23BYFJAWBEURQQIZYVRFXI\"}}, \"date\": {\"date\": {\"date\": \"GH2RXLTQ2BCEHPQ6R2SPBER7OM\"}}}',\n",
       "  'aaew/bbawgrabinschriften/〈Grabinschriften des Alten Reiches〉/Deir el-Gebrawi/〈Südhang〉/Grab des Ibi/Opferkapelle/Nordwand/Opfernische/Ostwand')]"
      ]
     },
     "execution_count": 27,
     "metadata": {},
     "output_type": "execute_result"
    }
   ],
   "source": [
    "with db as conn:\n",
    "    data = conn.execute('SELECT * FROM corpus_object LIMIT 10 OFFSET 10000').fetchall()\n",
    "data"
   ]
  },
  {
   "cell_type": "code",
   "execution_count": 28,
   "metadata": {},
   "outputs": [],
   "source": [
    "db.close()"
   ]
  }
 ],
 "metadata": {
  "kernelspec": {
   "display_name": "Python 3",
   "language": "python",
   "name": "python3"
  },
  "language_info": {
   "codemirror_mode": {
    "name": "ipython",
    "version": 3
   },
   "file_extension": ".py",
   "mimetype": "text/x-python",
   "name": "python",
   "nbconvert_exporter": "python",
   "pygments_lexer": "ipython3",
   "version": "3.6.5"
  }
 },
 "nbformat": 4,
 "nbformat_minor": 2
}
